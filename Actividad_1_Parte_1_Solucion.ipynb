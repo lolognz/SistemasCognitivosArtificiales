{
  "nbformat": 4,
  "nbformat_minor": 0,
  "metadata": {
    "colab": {
      "name": "Actividad_1_Parte_1.ipynb",
      "provenance": []
    },
    "kernelspec": {
      "display_name": "Python 3",
      "language": "python",
      "name": "python3"
    },
    "language_info": {
      "codemirror_mode": {
        "name": "ipython",
        "version": 3
      },
      "file_extension": ".py",
      "mimetype": "text/x-python",
      "name": "python",
      "nbconvert_exporter": "python",
      "pygments_lexer": "ipython3",
      "version": "3.7.6"
    }
  },
  "cells": [
    {
      "cell_type": "markdown",
      "metadata": {
        "id": "iiDzBoKGwmMZ"
      },
      "source": [
        "# Primera parte: Introducción a las redes neuronales con Keras\n",
        "\n",
        "En esta primera parte, vamos a utilizar una red neuronal para clasificar imágenes de prendas de ropa. Para ello, utilizaremos Keras con TensorFlow.\n",
        "\n",
        "El dataset a utilizar es Fashion MNIST, un problema sencillo con imágenes pequeñas de ropa, pero más interesante que el dataset de MNIST. Puedes consultar más información sobre el dataset en [este enlace](https://github.com/zalandoresearch/fashion-mnist).\n",
        "\n",
        "El código utilizado para contestar tiene que quedar claramente reflejado en el Notebook. Puedes crear nuevas cells si así lo deseas para estructurar tu código y sus salidas. A la hora de entregar el notebook, **asegúrate de que los resultados de ejecutar tu código han quedado guardados** (por ejemplo, a la hora de entrenar una red neuronal tiene que verse claramente un log de los resultados de cada epoch)."
      ]
    },
    {
      "cell_type": "code",
      "metadata": {
        "id": "gSHr268SwmMa",
        "scrolled": true
      },
      "source": [
        "import keras\n",
        "from keras.datasets import fashion_mnist\n",
        "from keras.models import Sequential\n",
        "from keras.layers import Dense\n",
        "import tensorflow as tf\n",
        "\n",
        "import matplotlib.pyplot as plt"
      ],
      "execution_count": null,
      "outputs": []
    },
    {
      "cell_type": "markdown",
      "metadata": {
        "id": "PhYq8-CvwmMc"
      },
      "source": [
        "Primero, vamos a obtener los datos. Por suerte para nosotros, estos pueden ser descargados directamente desde Keras, por lo que no tendremos que preocuparnos de tratar con ficheros."
      ]
    },
    {
      "cell_type": "code",
      "metadata": {
        "id": "0mjrFULOwmMd"
      },
      "source": [
        "(x_train, y_train), (x_test, y_test) = fashion_mnist.load_data()"
      ],
      "execution_count": null,
      "outputs": []
    },
    {
      "cell_type": "markdown",
      "metadata": {
        "id": "AOVoeoj0wmMe"
      },
      "source": [
        "Acto seguido, normalizamos esos datos de manera similar a como hemos visto con MNIST, obteniendo valores entre 0 y 1. Este paso es muy importante para el correcto funcionamiento de nuestra red."
      ]
    },
    {
      "cell_type": "code",
      "metadata": {
        "id": "5EgKN2YWwmMf"
      },
      "source": [
        "x_train = x_train / 255.0\n",
        "x_test = x_test / 255.0"
      ],
      "execution_count": null,
      "outputs": []
    },
    {
      "cell_type": "markdown",
      "metadata": {
        "id": "BaqXlSMBwmMg"
      },
      "source": [
        "## 1. Información sobre el dataset"
      ]
    },
    {
      "cell_type": "markdown",
      "metadata": {
        "id": "e0aer8ZZwmMh"
      },
      "source": [
        "Una vez tenemos los datos cargados en memoria, vamos a obtener información sobre los mismos."
      ]
    },
    {
      "cell_type": "markdown",
      "metadata": {
        "id": "E-im9PnEwmMh"
      },
      "source": [
        "**Pregunta 1.1 *(0.25 puntos)*** ¿Cuántas imágenes hay de *training* y de *test*? ¿Qué tamaño tienen las imágenes?"
      ]
    },
    {
      "cell_type": "code",
      "metadata": {
        "id": "lvP0Y4SCwmMi",
        "outputId": "5addf3c9-afeb-4bd0-d3c1-30184fc945ff",
        "colab": {
          "base_uri": "https://localhost:8080/",
          "height": 69
        }
      },
      "source": [
        "### Tu código aquí ###\n",
        "print(\"numero de imagenes de entrenamiento: {}\".format(x_train.shape[0]))\n",
        "print(\"núúmero de imagenes de test: {}\" .format(x_test.shape[0]))\n",
        "print(\"tamaño de las imagenes: {} x {}\".format(x_train.shape[1],x_train.shape[2]))"
      ],
      "execution_count": null,
      "outputs": [
        {
          "output_type": "stream",
          "text": [
            "numero de imagenes de entrenamiento: 60000\n",
            "núúmero de imagenes de test: 10000\n",
            "tamaño de las imagenes: 28 x 28\n"
          ],
          "name": "stdout"
        }
      ]
    },
    {
      "cell_type": "markdown",
      "metadata": {
        "id": "Xwp5ljFKwmMj"
      },
      "source": [
        "*Tu respuesta aquí*"
      ]
    },
    {
      "cell_type": "markdown",
      "metadata": {
        "id": "F2LsvfHOwmMk"
      },
      "source": [
        "**Pregunta 1.2 *(0.25 puntos)*** Realizar una exploración de las variables que contienen los datos. Describir en qué consiste un example del dataset (qué información se guarda en cada imagen) y describir qué contiene la información en y."
      ]
    },
    {
      "cell_type": "code",
      "metadata": {
        "id": "3W5rzaGxwmMk",
        "outputId": "3c4cea55-728b-4a42-ea1e-032a9885d327",
        "colab": {
          "base_uri": "https://localhost:8080/",
          "height": 53
        }
      },
      "source": [
        "### Tu código aquí ###\n",
        "print(\"tipo de informacion en y: {}\".format(y_train.dtype))\n",
        "#Nombramos las distintas clases\n",
        "class_names = [\"T-shirt/top\", \"Trouser\", \"Pullover\", \"Dress\", \"Coat\", \"Sandal\", \"Shirt\", \"Sneaker\", \"Bag\", \"Ankle boot\"]\n",
        "class_names[y_train[0]]"
      ],
      "execution_count": null,
      "outputs": [
        {
          "output_type": "stream",
          "text": [
            "tipo de informacion en y: uint8\n"
          ],
          "name": "stdout"
        },
        {
          "output_type": "execute_result",
          "data": {
            "application/vnd.google.colaboratory.intrinsic+json": {
              "type": "string"
            },
            "text/plain": [
              "'Ankle boot'"
            ]
          },
          "metadata": {
            "tags": []
          },
          "execution_count": 17
        }
      ]
    },
    {
      "cell_type": "markdown",
      "metadata": {
        "id": "zaEWKFyvwmMm"
      },
      "source": [
        "*Tu respuesta aquí*\n"
      ]
    },
    {
      "cell_type": "markdown",
      "metadata": {
        "id": "HPNa3nH0wmMn"
      },
      "source": [
        "Vamos a **visualizar** una imagen de ejemplo. Prueba tu mismo a cambiar la imagen en uso para explorar el dataset visualmente ejecutando el siguiente código:"
      ]
    },
    {
      "cell_type": "code",
      "metadata": {
        "id": "WlQx9uk3wmMn"
      },
      "source": [
        "def visualize_example(x):\n",
        "    plt.figure()\n",
        "    plt.imshow(x)\n",
        "    plt.colorbar()\n",
        "    plt.grid(False)\n",
        "    plt.show()"
      ],
      "execution_count": null,
      "outputs": []
    },
    {
      "cell_type": "code",
      "metadata": {
        "id": "YTHt4fd2wmMp",
        "outputId": "443c1e5c-5227-4a40-d1e7-b33f715596aa",
        "colab": {
          "base_uri": "https://localhost:8080/",
          "height": 269
        }
      },
      "source": [
        "visualize_example(x_train[5])"
      ],
      "execution_count": null,
      "outputs": [
        {
          "output_type": "display_data",
          "data": {
            "image/png": "[encoded data removed]",
            "text/plain": [
              "<Figure size 432x288 with 2 Axes>"
            ]
          },
          "metadata": {
            "tags": [],
            "needs_background": "light"
          }
        }
      ]
    },
    {
      "cell_type": "markdown",
      "metadata": {
        "id": "USVefNOIwmMt"
      },
      "source": [
        "## 2. Entrenamiento de una red neuronal simple"
      ]
    },
    {
      "cell_type": "markdown",
      "metadata": {
        "id": "sSWjUeOdwmMt"
      },
      "source": [
        "**Pregunta 2 *(3.5 puntos)***. Utilizando Keras, y preparando los datos de X e y como fuera necesario, define y entrena una red neuronal que sea capaz de clasificar imágenes de Fashion MNIST con las siguientes características:\n",
        "\n",
        "* Dos hidden layers de tamaños 128 y 64, utilizando unidades **sigmoid**\n",
        "* Optimizador **sgd**.\n",
        "* Durante el entrenamiento, la red tiene que mostrar resultados de **loss** y **accuracy** por cada epoch.\n",
        "* La red debe entrenar durante **20 epochs** y batch size de **64**.\n",
        "* La última capa debe de ser una capa **softmax**.\n",
        "\n",
        "Tu red tendría que ser capaz de superar fácilmente 60% de accuracy."
      ]
    },
    {
      "cell_type": "code",
      "metadata": {
        "id": "cCh7qRMTwmMt"
      },
      "source": [
        "### Tu código aquí ###\n",
        "#Construimos la red utilizando una hidden layer de 128 y otra de 64, utilizando sigmoid\n",
        "model= keras.models.Sequential()\n",
        "model.add(keras.layers.Flatten(input_shape=[28,28]))\n",
        "model.add(keras.layers.Dense(128, activation=\"sigmoid\"))\n",
        "model.add(keras.layers.Dense(64, activation=\"sigmoid\"))\n",
        "model.add(keras.layers.Dense(10, activation=\"softmax\"))\n",
        "#Compilamos el modelo con optimizador sgd \n",
        "model.compile(loss=\"sparse_categorical_crossentropy\",\n",
        "              optimizer= \"sgd\",\n",
        "              metrics =[\"accuracy\"])\n"
      ],
      "execution_count": null,
      "outputs": []
    },
    {
      "cell_type": "code",
      "metadata": {
        "id": "XPqpzU_tDaai",
        "outputId": "221288ca-de25-44e2-9a1c-bb6ffe84cca7",
        "colab": {
          "base_uri": "https://localhost:8080/",
          "height": 712
        }
      },
      "source": [
        "#Entrenamos la red neuroan con 20 epochs y mostramos los resultados de loss y accuracy por cada epoch\n",
        "history = model.fit(x_train, y_train, batch_size=64, epochs=20)"
      ],
      "execution_count": null,
      "outputs": [
        {
          "output_type": "stream",
          "text": [
            "Epoch 1/20\n",
            "938/938 [==============================] - 2s 3ms/step - loss: 2.2008 - accuracy: 0.4049\n",
            "Epoch 2/20\n",
            "938/938 [==============================] - 3s 3ms/step - loss: 1.8395 - accuracy: 0.5793\n",
            "Epoch 3/20\n",
            "938/938 [==============================] - 2s 3ms/step - loss: 1.4480 - accuracy: 0.6174\n",
            "Epoch 4/20\n",
            "938/938 [==============================] - 2s 3ms/step - loss: 1.2101 - accuracy: 0.6522\n",
            "Epoch 5/20\n",
            "938/938 [==============================] - 2s 3ms/step - loss: 1.0629 - accuracy: 0.6783\n",
            "Epoch 6/20\n",
            "938/938 [==============================] - 2s 2ms/step - loss: 0.9610 - accuracy: 0.6967\n",
            "Epoch 7/20\n",
            "938/938 [==============================] - 2s 3ms/step - loss: 0.8852 - accuracy: 0.7105\n",
            "Epoch 8/20\n",
            "938/938 [==============================] - 2s 3ms/step - loss: 0.8266 - accuracy: 0.7222\n",
            "Epoch 9/20\n",
            "938/938 [==============================] - 2s 2ms/step - loss: 0.7808 - accuracy: 0.7307\n",
            "Epoch 10/20\n",
            "938/938 [==============================] - 2s 2ms/step - loss: 0.7444 - accuracy: 0.7398\n",
            "Epoch 11/20\n",
            "938/938 [==============================] - 2s 3ms/step - loss: 0.7148 - accuracy: 0.7457\n",
            "Epoch 12/20\n",
            "938/938 [==============================] - 2s 2ms/step - loss: 0.6902 - accuracy: 0.7497\n",
            "Epoch 13/20\n",
            "938/938 [==============================] - 2s 2ms/step - loss: 0.6696 - accuracy: 0.7554\n",
            "Epoch 14/20\n",
            "938/938 [==============================] - 2s 3ms/step - loss: 0.6517 - accuracy: 0.7600\n",
            "Epoch 15/20\n",
            "938/938 [==============================] - 2s 3ms/step - loss: 0.6359 - accuracy: 0.7646\n",
            "Epoch 16/20\n",
            "938/938 [==============================] - 2s 3ms/step - loss: 0.6222 - accuracy: 0.7700\n",
            "Epoch 17/20\n",
            "938/938 [==============================] - 3s 3ms/step - loss: 0.6094 - accuracy: 0.7747\n",
            "Epoch 18/20\n",
            "938/938 [==============================] - 2s 3ms/step - loss: 0.5979 - accuracy: 0.7798\n",
            "Epoch 19/20\n",
            "938/938 [==============================] - 2s 3ms/step - loss: 0.5874 - accuracy: 0.7840\n",
            "Epoch 20/20\n",
            "938/938 [==============================] - 2s 3ms/step - loss: 0.5777 - accuracy: 0.7885\n"
          ],
          "name": "stdout"
        }
      ]
    },
    {
      "cell_type": "markdown",
      "metadata": {
        "id": "CZux6TmvwmMv"
      },
      "source": [
        "## 3. Evaluación del modelo en datos de test"
      ]
    },
    {
      "cell_type": "markdown",
      "metadata": {
        "id": "0SzHBkzrwmMw"
      },
      "source": [
        "Una vez hemos entrenado nuestro modelo, vamos a evaluarlo en los datos de test de Fashion MNIST.\n",
        "\n",
        "**Pregunta 3.1 *(0.5 puntos)***. Utilizando el modelo recién entrenado, obtener la accuracy resultante en el dataset de test."
      ]
    },
    {
      "cell_type": "code",
      "metadata": {
        "id": "9CSLZkW1wmMw",
        "outputId": "fadb2c7e-b365-4eaa-8c32-daa427e6fc68",
        "colab": {
          "base_uri": "https://localhost:8080/",
          "height": 69
        }
      },
      "source": [
        "### Tu código aquí ###\n",
        "#comprobamos el accuracy de la red, con un resultado en torno a el 79% \n",
        "#y una perdida del 57%\n",
        "test_loss, test_acc = model.evaluate(x_test,  y_test, verbose=2)\n",
        "\n",
        "print('\\nTest accuracy:', test_acc)"
      ],
      "execution_count": null,
      "outputs": [
        {
          "output_type": "stream",
          "text": [
            "313/313 - 0s - loss: 0.5934 - accuracy: 0.7799\n",
            "\n",
            "Test accuracy: 0.7799000144004822\n"
          ],
          "name": "stdout"
        }
      ]
    },
    {
      "cell_type": "markdown",
      "metadata": {
        "id": "ud0JCcZpwmMx"
      },
      "source": [
        "**Pregunta 3.2 *(0.5 puntos)***. Utilizando el método **predict** de Keras, realizar predicciones para los datos de test. Por cada predicción resultante, ¿qué significan los números que obtenemos al hacer predict? ¿Cómo podemos obtener el valor de la clase resultante? (recordar que estamos utilizando una capa softmax para clasificar)."
      ]
    },
    {
      "cell_type": "code",
      "metadata": {
        "id": "0wrXVJJ9wmMy",
        "outputId": "a8eb06de-cfd1-434b-f75f-f87623706d03",
        "colab": {
          "base_uri": "https://localhost:8080/",
          "height": 105
        }
      },
      "source": [
        "### Tu código aquí ###\n",
        "#utilizamos el metodo preidct de keras\n",
        "predictions = model.predict(x_test)\n",
        "#Obtenemos la predicción sobre el elemento 0 de nuestros datos de test\n",
        "#vemos que obtenemos un valor de predicción sobre cada una de las categorias \n",
        "#que tenemos en y_test. La posición con mayor valor de predicción será \n",
        "#aquella que tendrá el valor de confianza más alto\n",
        "print(\"Array de valores y confianza en cada uno de ellos:\\n {}\".format(predictions[0]))\n",
        "#Podemos comprobar si es correcto viendo que etiqueta tiene esa imagen en nuestro dataset\n",
        "print(\"Valor del primer objeto de test: {}\".format(y_test[0]))\n",
        "#En este caso en el array podemos ver que la ultima posicion se corresponde con aquella de mayor\n",
        "#confianza, que coincide con el valor del primer objeto de test\n",
        "class_names[y_train[0]]"
      ],
      "execution_count": null,
      "outputs": [
        {
          "output_type": "stream",
          "text": [
            "Array de valores y confianza en cada uno de ellos:\n",
            " [6.7958434e-05 1.4069314e-04 2.1289969e-04 2.8525051e-04 1.5270742e-04\n",
            " 1.7307419e-01 2.0518480e-04 3.2865551e-01 1.3860133e-02 4.8334551e-01]\n",
            "Valor del primer objeto de test: 9\n"
          ],
          "name": "stdout"
        },
        {
          "output_type": "execute_result",
          "data": {
            "application/vnd.google.colaboratory.intrinsic+json": {
              "type": "string"
            },
            "text/plain": [
              "'Ankle boot'"
            ]
          },
          "metadata": {
            "tags": []
          },
          "execution_count": 23
        }
      ]
    },
    {
      "cell_type": "markdown",
      "metadata": {
        "id": "fZynBpMBwmM2"
      },
      "source": [
        "*Tu respuesta aquí*\n",
        "\n",
        "Se ha ido respondiendo en los comentarios mientras se hacia el codigo.\n",
        "\n",
        "En resumen, la red neuronal obtiene un accuracy en torno al 79% y al realizar una prueba de predicción vemos que la realiza correctamente"
      ]
    }
  ]
}